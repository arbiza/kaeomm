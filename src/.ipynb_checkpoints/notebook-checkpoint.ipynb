{
 "cells": [
  {
   "cell_type": "code",
   "execution_count": 2,
   "id": "b7e3a7d0-9624-477c-88f3-1de07694047a",
   "metadata": {},
   "outputs": [],
   "source": [
    "import pandas as pd\n",
    "from transactions import Transactions\n",
    "from statements import StatementsParser\n",
    "from config import Config\n",
    "from sources import Source\n",
    "from sources import Sources"
   ]
  },
  {
   "cell_type": "markdown",
   "id": "31746c0e-5c97-4e8b-9baf-cbe10d4da0eb",
   "metadata": {},
   "source": [
    "Create the objects that load the existing data"
   ]
  },
  {
   "cell_type": "code",
   "execution_count": null,
   "id": "241abcb8-c78e-4397-8c70-8c5944d458f9",
   "metadata": {},
   "outputs": [],
   "source": [
    "cfg = Config('../data/db')\n",
    "s = Sources(cfg)\n",
    "t = Transactions(cfg, s)"
   ]
  },
  {
   "cell_type": "code",
   "execution_count": null,
   "id": "72808588-f68f-4448-b023-b969152f3cb2",
   "metadata": {},
   "outputs": [],
   "source": [
    "t.print_to_cli([], 100)"
   ]
  }
 ],
 "metadata": {
  "kernelspec": {
   "display_name": "Python 3 (ipykernel)",
   "language": "python",
   "name": "python3"
  },
  "language_info": {
   "codemirror_mode": {
    "name": "ipython",
    "version": 3
   },
   "file_extension": ".py",
   "mimetype": "text/x-python",
   "name": "python",
   "nbconvert_exporter": "python",
   "pygments_lexer": "ipython3",
   "version": "3.10.12"
  }
 },
 "nbformat": 4,
 "nbformat_minor": 5
}
