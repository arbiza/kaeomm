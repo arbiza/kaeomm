{
 "cells": [
  {
   "cell_type": "code",
   "execution_count": null,
   "id": "b7e3a7d0-9624-477c-88f3-1de07694047a",
   "metadata": {},
   "outputs": [
    {
     "ename": "",
     "evalue": "",
     "output_type": "error",
     "traceback": [
      "\u001b[1;31mRunning cells with 'env' requires the ipykernel package.\n",
      "\u001b[1;31mRun the following command to install 'ipykernel' into the Python environment. \n",
      "\u001b[1;31mCommand: '/home/larbiza/projects/kaeomm/env/bin/python -m pip install ipykernel -U --force-reinstall'"
     ]
    }
   ],
   "source": [
    "import pandas as pd\n",
    "from transactions import Transactions\n",
    "from statements import StatementsParser\n",
    "from config import Config\n",
    "from sources import Source\n",
    "from sources import Sources\n"
   ]
  },
  {
   "cell_type": "markdown",
   "id": "31746c0e-5c97-4e8b-9baf-cbe10d4da0eb",
   "metadata": {},
   "source": [
    "Create the objects that load the existing data"
   ]
  },
  {
   "cell_type": "code",
   "execution_count": null,
   "id": "241abcb8-c78e-4397-8c70-8c5944d458f9",
   "metadata": {},
   "outputs": [
    {
     "ename": "",
     "evalue": "",
     "output_type": "error",
     "traceback": [
      "\u001b[1;31mRunning cells with 'env' requires the ipykernel package.\n",
      "\u001b[1;31mRun the following command to install 'ipykernel' into the Python environment. \n",
      "\u001b[1;31mCommand: '/home/larbiza/projects/kaeomm/env/bin/python -m pip install ipykernel -U --force-reinstall'"
     ]
    }
   ],
   "source": [
    "cfg = Config('../data/db')\n",
    "s = Sources(cfg)\n",
    "t = Transactions(cfg, s)"
   ]
  },
  {
   "cell_type": "markdown",
   "id": "02adaf4f-3350-4fd4-b625-4eb22623ea44",
   "metadata": {},
   "source": [
    "### Original DF length"
   ]
  },
  {
   "cell_type": "code",
   "execution_count": null,
   "id": "f4db6208-5066-414c-b814-cef6367e9f56",
   "metadata": {},
   "outputs": [],
   "source": [
    "len(t._df)"
   ]
  },
  {
   "cell_type": "markdown",
   "id": "2f7c3675",
   "metadata": {},
   "source": [
    "### Removing duplicates"
   ]
  },
  {
   "cell_type": "code",
   "execution_count": null,
   "id": "b93356f1",
   "metadata": {},
   "outputs": [],
   "source": [
    "t._delete_duplicates()\n",
    "len(t._df)"
   ]
  },
  {
   "cell_type": "markdown",
   "id": "62a918a1-f00b-4e98-b21e-b7b6f583f03c",
   "metadata": {},
   "source": [
    "### Re-adding transactions and new length"
   ]
  },
  {
   "cell_type": "code",
   "execution_count": null,
   "id": "89d4bbd1-072d-4c3f-b73a-109e1c8ac10e",
   "metadata": {},
   "outputs": [],
   "source": [
    "t.add_bulk([s.get_source('Revolut PLN').statement_parse('../data/statements/revolut-pln.csv')])\n",
    "len(t._df)"
   ]
  },
  {
   "cell_type": "code",
   "execution_count": null,
   "id": "bb750e7f-6109-4573-8728-f148b294ad28",
   "metadata": {},
   "outputs": [],
   "source": [
    "print(t._delete_duplicates())"
   ]
  },
  {
   "cell_type": "code",
   "execution_count": null,
   "id": "269520b2-6346-4162-9439-e55440fa8cd9",
   "metadata": {},
   "outputs": [],
   "source": [
    "t._df"
   ]
  },
  {
   "cell_type": "code",
   "execution_count": null,
   "id": "087fa15a-2046-4300-bfa6-80eab6efe394",
   "metadata": {},
   "outputs": [],
   "source": []
  }
 ],
 "metadata": {
  "kernelspec": {
   "display_name": "Python 3 (ipykernel)",
   "language": "python",
   "name": "python3"
  },
  "language_info": {
   "codemirror_mode": {
    "name": "ipython",
    "version": 3
   },
   "file_extension": ".py",
   "mimetype": "text/x-python",
   "name": "python",
   "nbconvert_exporter": "python",
   "pygments_lexer": "ipython3",
   "version": "3.11.7"
  }
 },
 "nbformat": 4,
 "nbformat_minor": 5
}
